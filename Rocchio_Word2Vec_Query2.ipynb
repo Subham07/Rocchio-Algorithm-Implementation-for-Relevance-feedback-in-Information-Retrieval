{
  "nbformat": 4,
  "nbformat_minor": 0,
  "metadata": {
    "colab": {
      "name": "LabAssignment6_qword2.ipynb",
      "provenance": [],
      "collapsed_sections": []
    },
    "kernelspec": {
      "name": "python3",
      "display_name": "Python 3"
    }
  },
  "cells": [
    {
      "cell_type": "markdown",
      "metadata": {
        "id": "D84azbgqbfl_",
        "colab_type": "text"
      },
      "source": [
        "**Approach: Simple Query + Word2Vec + Rochio + gamma= 0**"
      ]
    },
    {
      "cell_type": "code",
      "metadata": {
        "id": "mfqB6yLQaUsK",
        "colab_type": "code",
        "outputId": "5f72c117-a53b-4fcc-d27f-05f98a837ebf",
        "colab": {
          "base_uri": "https://localhost:8080/",
          "height": 122
        }
      },
      "source": [
        "from google.colab import drive\n",
        "drive.mount('/content/drive')"
      ],
      "execution_count": 0,
      "outputs": [
        {
          "output_type": "stream",
          "text": [
            "Go to this URL in a browser: https://accounts.google.com/o/oauth2/auth?client_id=947318989803-6bn6qk8qdgf4n4g3pfee6491hc0brc4i.apps.googleusercontent.com&redirect_uri=urn%3aietf%3awg%3aoauth%3a2.0%3aoob&response_type=code&scope=email%20https%3a%2f%2fwww.googleapis.com%2fauth%2fdocs.test%20https%3a%2f%2fwww.googleapis.com%2fauth%2fdrive%20https%3a%2f%2fwww.googleapis.com%2fauth%2fdrive.photos.readonly%20https%3a%2f%2fwww.googleapis.com%2fauth%2fpeopleapi.readonly\n",
            "\n",
            "Enter your authorization code:\n",
            "··········\n",
            "Mounted at /content/drive\n"
          ],
          "name": "stdout"
        }
      ]
    },
    {
      "cell_type": "markdown",
      "metadata": {
        "id": "Yh3VU0XFb8ci",
        "colab_type": "text"
      },
      "source": [
        "Reading csv files containing tokens of documents and queries"
      ]
    },
    {
      "cell_type": "code",
      "metadata": {
        "id": "FtvVL_-Kan2-",
        "colab_type": "code",
        "colab": {}
      },
      "source": [
        "import pandas as pd\n",
        "df=pd.read_csv('drive/My Drive/dataset.csv')"
      ],
      "execution_count": 0,
      "outputs": []
    },
    {
      "cell_type": "code",
      "metadata": {
        "id": "pRwBdj8EatEH",
        "colab_type": "code",
        "colab": {}
      },
      "source": [
        "import pandas as pd\n",
        "dfq=pd.read_csv('drive/My Drive/dataset_query.csv')"
      ],
      "execution_count": 0,
      "outputs": []
    },
    {
      "cell_type": "code",
      "metadata": {
        "id": "nlxScRo2a0iN",
        "colab_type": "code",
        "colab": {}
      },
      "source": [
        "from gensim.test.utils import common_texts, get_tmpfile\n",
        "from gensim.models import Word2Vec"
      ],
      "execution_count": 0,
      "outputs": []
    },
    {
      "cell_type": "markdown",
      "metadata": {
        "id": "XFq6Nk0Cb-vR",
        "colab_type": "text"
      },
      "source": [
        "Creating list of documents"
      ]
    },
    {
      "cell_type": "code",
      "metadata": {
        "id": "RLSWbdZ9a4qX",
        "colab_type": "code",
        "outputId": "57a8f0c9-9fe6-4ca9-9771-d0c2a42c36b6",
        "colab": {
          "base_uri": "https://localhost:8080/",
          "height": 238
        }
      },
      "source": [
        "sent=[]\n",
        "for i in range(125511):\n",
        "  if(i%10000==0):\n",
        "    print(i)\n",
        "  tokens=df[\"Tokens\"][i][1:len(df[\"Tokens\"][i])-2]\n",
        "  tokens_list=tokens.split(', ')\n",
        "  for i in range(len(tokens_list)):\n",
        "    tokens_list[i]=tokens_list[i][1:len(tokens_list[i])-1]\n",
        "  sent.append(tokens_list)"
      ],
      "execution_count": 0,
      "outputs": [
        {
          "output_type": "stream",
          "text": [
            "0\n",
            "10000\n",
            "20000\n",
            "30000\n",
            "40000\n",
            "50000\n",
            "60000\n",
            "70000\n",
            "80000\n",
            "90000\n",
            "100000\n",
            "110000\n",
            "120000\n"
          ],
          "name": "stdout"
        }
      ]
    },
    {
      "cell_type": "code",
      "metadata": {
        "id": "IOfne5K5a9ZA",
        "colab_type": "code",
        "outputId": "eb978dc8-265d-4cef-e9ef-5d9cce47e81f",
        "colab": {
          "base_uri": "https://localhost:8080/",
          "height": 34
        }
      },
      "source": [
        "print(len(sent))"
      ],
      "execution_count": 0,
      "outputs": [
        {
          "output_type": "stream",
          "text": [
            "125511\n"
          ],
          "name": "stdout"
        }
      ]
    },
    {
      "cell_type": "markdown",
      "metadata": {
        "id": "gcIkS9_PbIT7",
        "colab_type": "text"
      },
      "source": [
        "**Word embedding using SkipGram Technique**\n",
        "\n",
        "Window size is taken as 2 , Dimension: 100"
      ]
    },
    {
      "cell_type": "code",
      "metadata": {
        "id": "59eeUvibbDnK",
        "colab_type": "code",
        "colab": {}
      },
      "source": [
        "from gensim.test.utils import common_texts, get_tmpfile\n",
        "from gensim.models import Word2Vec\n",
        "model = Word2Vec(sent, size=100, window=2, min_count=1,sg=1) #using skipgram technique"
      ],
      "execution_count": 0,
      "outputs": []
    },
    {
      "cell_type": "code",
      "metadata": {
        "id": "-qStRT1KbSHr",
        "colab_type": "code",
        "outputId": "d2cf10c1-686f-4dcf-aae6-1807ca3d17b2",
        "colab": {
          "base_uri": "https://localhost:8080/",
          "height": 71
        }
      },
      "source": [
        "model.save(\"word2vec.model\")"
      ],
      "execution_count": 0,
      "outputs": [
        {
          "output_type": "stream",
          "text": [
            "/usr/local/lib/python3.6/dist-packages/smart_open/smart_open_lib.py:410: UserWarning: This function is deprecated, use smart_open.open instead. See the migration notes for details: https://github.com/RaRe-Technologies/smart_open/blob/master/README.rst#migrating-to-the-new-open-function\n",
            "  'See the migration notes for details: %s' % _MIGRATION_NOTES_URL\n"
          ],
          "name": "stderr"
        }
      ]
    },
    {
      "cell_type": "code",
      "metadata": {
        "id": "4QO9P_wZvp5_",
        "colab_type": "code",
        "outputId": "15eb4d98-7ad4-4633-8156-98b78015126e",
        "colab": {
          "base_uri": "https://localhost:8080/",
          "height": 71
        }
      },
      "source": [
        "model=Word2Vec.load(\"drive/My Drive/word2vec.model\")"
      ],
      "execution_count": 0,
      "outputs": [
        {
          "output_type": "stream",
          "text": [
            "/usr/local/lib/python3.6/dist-packages/smart_open/smart_open_lib.py:410: UserWarning: This function is deprecated, use smart_open.open instead. See the migration notes for details: https://github.com/RaRe-Technologies/smart_open/blob/master/README.rst#migrating-to-the-new-open-function\n",
            "  'See the migration notes for details: %s' % _MIGRATION_NOTES_URL\n"
          ],
          "name": "stderr"
        }
      ]
    },
    {
      "cell_type": "code",
      "metadata": {
        "id": "l1cJg4Q-uzul",
        "colab_type": "code",
        "outputId": "570ac1fa-6822-423c-d677-29858001188c",
        "colab": {
          "base_uri": "https://localhost:8080/",
          "height": 34
        }
      },
      "source": [
        "model.train(sent,total_examples=125511,epochs=4)"
      ],
      "execution_count": 0,
      "outputs": [
        {
          "output_type": "execute_result",
          "data": {
            "text/plain": [
              "(129914225, 131597408)"
            ]
          },
          "metadata": {
            "tags": []
          },
          "execution_count": 13
        }
      ]
    },
    {
      "cell_type": "markdown",
      "metadata": {
        "id": "ZWjsw3JlcAx5",
        "colab_type": "text"
      },
      "source": [
        "Creating list of queries"
      ]
    },
    {
      "cell_type": "code",
      "metadata": {
        "id": "BCXAjt0ax0Oi",
        "colab_type": "code",
        "outputId": "afb4e110-07ae-4e26-e012-c53056020c56",
        "colab": {
          "base_uri": "https://localhost:8080/",
          "height": 187
        }
      },
      "source": [
        "sent_q=[]\n",
        "for i in range(50):\n",
        "  if(i%5==0):\n",
        "    print(i)\n",
        "  tokens=dfq[\"Tokens\"][i][1:len(dfq[\"Tokens\"][i])-1]\n",
        "  tokens_list=tokens.split(', ')\n",
        "  for i in range(len(tokens_list)):\n",
        "    tokens_list[i]=tokens_list[i][1:len(tokens_list[i])-1]\n",
        "  sent_q.append(tokens_list)"
      ],
      "execution_count": 0,
      "outputs": [
        {
          "output_type": "stream",
          "text": [
            "0\n",
            "5\n",
            "10\n",
            "15\n",
            "20\n",
            "25\n",
            "30\n",
            "35\n",
            "40\n",
            "45\n"
          ],
          "name": "stdout"
        }
      ]
    },
    {
      "cell_type": "code",
      "metadata": {
        "id": "9xqkV4B8x4yT",
        "colab_type": "code",
        "outputId": "434cfd50-234b-4899-e9e5-1d3952f84a41",
        "colab": {
          "base_uri": "https://localhost:8080/",
          "height": 374
        }
      },
      "source": [
        "model.wv[\"reason\"] #Sample word vector of 100 dimensions"
      ],
      "execution_count": 0,
      "outputs": [
        {
          "output_type": "execute_result",
          "data": {
            "text/plain": [
              "array([ 0.36243615,  0.04503331, -0.43213254,  0.09851836,  0.5906064 ,\n",
              "        0.5114799 , -0.12560925,  0.25110355,  0.60464567, -0.7958527 ,\n",
              "       -0.21644698, -0.9304483 ,  0.05804143,  0.5504083 , -0.00342163,\n",
              "        0.06829119,  0.22590208,  0.0411131 ,  0.03289723, -0.20925708,\n",
              "        0.11944792,  0.22260585,  0.06296273, -0.24071032, -0.01663958,\n",
              "       -0.0427087 , -0.4999284 , -0.02924724, -0.24229896,  0.5857353 ,\n",
              "        0.13247328,  0.17263772,  0.28781608,  0.25913167, -0.01311486,\n",
              "       -0.26647222,  0.0933061 ,  0.39802426, -0.01516036, -0.5227983 ,\n",
              "        0.22576255, -0.34148163, -0.56822526, -0.06391629,  0.51439875,\n",
              "       -0.25317022, -0.36146206, -0.44514993,  0.1182727 , -0.06484474,\n",
              "        0.09106957, -0.50062484, -0.54174817,  0.07958966,  0.17889644,\n",
              "       -0.6904657 , -0.25952485,  0.06954725,  0.04208698,  0.44061315,\n",
              "        0.38641182,  0.09739266,  0.05731147, -0.1594837 ,  0.61802554,\n",
              "        0.65077263, -0.5124919 , -0.2432941 ,  0.59344745, -0.49512896,\n",
              "        0.07763303, -0.27981654,  0.04210465,  0.13831958, -0.404148  ,\n",
              "        0.49166355, -0.20891728, -0.5107022 ,  0.03952431, -0.00994525,\n",
              "        0.568678  , -0.36152178,  0.00486161,  0.31650013,  0.09530515,\n",
              "       -0.07607953,  0.6095973 , -0.35412645,  0.12450639, -0.2552869 ,\n",
              "        0.3232614 ,  0.26789317,  0.07178914, -0.71552205, -0.33443516,\n",
              "        0.33137375, -0.04819751,  0.22371988,  0.17491256, -0.47647783],\n",
              "      dtype=float32)"
            ]
          },
          "metadata": {
            "tags": []
          },
          "execution_count": 12
        }
      ]
    },
    {
      "cell_type": "markdown",
      "metadata": {
        "id": "h-qNdtQZcFem",
        "colab_type": "text"
      },
      "source": [
        "Calculating word2vec embedding (vectors) for each doc"
      ]
    },
    {
      "cell_type": "code",
      "metadata": {
        "id": "IHTxL7Z_x9H9",
        "colab_type": "code",
        "outputId": "acc5121b-b838-4099-876f-b760f380dfe3",
        "colab": {
          "base_uri": "https://localhost:8080/",
          "height": 459
        }
      },
      "source": [
        "# calculating vectors for each doc\n",
        "\n",
        "import numpy as np\n",
        "doc_rep=np.zeros((125511,100),dtype='float32')\n",
        "for i in range(125511):\n",
        "  docs=sent[i]\n",
        "  no_of_words=len(docs)\n",
        "  word_rep=[]\n",
        "  for x in docs:\n",
        "    word_rep.append(model.wv[x]);\n",
        "  word_rep_arr=np.array(word_rep)\n",
        "  if(i%10000==0):\n",
        "    print(word_rep_arr.shape)\n",
        "    print(i)\n",
        "  doc_rep[i]=np.average(word_rep_arr,axis=0)\n"
      ],
      "execution_count": 0,
      "outputs": [
        {
          "output_type": "stream",
          "text": [
            "(111, 100)\n",
            "0\n",
            "(177, 100)\n",
            "10000\n",
            "(167, 100)\n",
            "20000\n",
            "(178, 100)\n",
            "30000\n",
            "(157, 100)\n",
            "40000\n",
            "(79, 100)\n",
            "50000\n",
            "(280, 100)\n",
            "60000\n",
            "(170, 100)\n",
            "70000\n",
            "(138, 100)\n",
            "80000\n",
            "(303, 100)\n",
            "90000\n",
            "(98, 100)\n",
            "100000\n",
            "(199, 100)\n",
            "110000\n",
            "(411, 100)\n",
            "120000\n"
          ],
          "name": "stdout"
        }
      ]
    },
    {
      "cell_type": "code",
      "metadata": {
        "id": "_AAOnfmuyDX2",
        "colab_type": "code",
        "outputId": "b4033346-89ae-46ce-9b72-968cfd3f126d",
        "colab": {
          "base_uri": "https://localhost:8080/",
          "height": 34
        }
      },
      "source": [
        "print(doc_rep.shape)"
      ],
      "execution_count": 0,
      "outputs": [
        {
          "output_type": "stream",
          "text": [
            "(125511, 100)\n"
          ],
          "name": "stdout"
        }
      ]
    },
    {
      "cell_type": "markdown",
      "metadata": {
        "id": "p4858NEncH7M",
        "colab_type": "text"
      },
      "source": [
        "Calculating word2vec embedding (vectors) for each query"
      ]
    },
    {
      "cell_type": "code",
      "metadata": {
        "id": "CF9YLtX0yoyH",
        "colab_type": "code",
        "outputId": "877c90f5-c7a9-44b2-a2ab-c90bc0c7a5c5",
        "colab": {
          "base_uri": "https://localhost:8080/",
          "height": 867
        }
      },
      "source": [
        "# calculating vectors for each query \n",
        "import numpy as np\n",
        "query_rep=np.zeros((50,100),dtype='float32')\n",
        "p=0;\n",
        "for i in range(50):\n",
        "  #if(i==11 or i==25):\n",
        "   # continue\n",
        "  query=sent_q[i]\n",
        "  no_of_words=len(query)\n",
        "  q_rep=[]\n",
        "  for x in query:\n",
        "    q_rep.append(model.wv[x]);\n",
        "  q_rep_arr=np.array(q_rep)\n",
        "  print(i)\n",
        "  query_rep[p]=np.average(q_rep_arr,axis=0)\n",
        "  p=p+1\n"
      ],
      "execution_count": 0,
      "outputs": [
        {
          "output_type": "stream",
          "text": [
            "0\n",
            "1\n",
            "2\n",
            "3\n",
            "4\n",
            "5\n",
            "6\n",
            "7\n",
            "8\n",
            "9\n",
            "10\n",
            "11\n",
            "12\n",
            "13\n",
            "14\n",
            "15\n",
            "16\n",
            "17\n",
            "18\n",
            "19\n",
            "20\n",
            "21\n",
            "22\n",
            "23\n",
            "24\n",
            "25\n",
            "26\n",
            "27\n",
            "28\n",
            "29\n",
            "30\n",
            "31\n",
            "32\n",
            "33\n",
            "34\n",
            "35\n",
            "36\n",
            "37\n",
            "38\n",
            "39\n",
            "40\n",
            "41\n",
            "42\n",
            "43\n",
            "44\n",
            "45\n",
            "46\n",
            "47\n",
            "48\n",
            "49\n"
          ],
          "name": "stdout"
        }
      ]
    },
    {
      "cell_type": "code",
      "metadata": {
        "id": "nYlOxex3ywl2",
        "colab_type": "code",
        "outputId": "9703ccd0-0cca-4d29-a7c0-191547aabbfc",
        "colab": {
          "base_uri": "https://localhost:8080/",
          "height": 34
        }
      },
      "source": [
        "print(query_rep.shape)"
      ],
      "execution_count": 0,
      "outputs": [
        {
          "output_type": "stream",
          "text": [
            "(50, 100)\n"
          ],
          "name": "stdout"
        }
      ]
    },
    {
      "cell_type": "markdown",
      "metadata": {
        "id": "_W0b5h7jcKoh",
        "colab_type": "text"
      },
      "source": [
        "Calculating Cosine Similarity distance"
      ]
    },
    {
      "cell_type": "code",
      "metadata": {
        "id": "s4sbEGEqy1r2",
        "colab_type": "code",
        "colab": {}
      },
      "source": [
        "from sklearn.metrics.pairwise import cosine_similarity\n",
        "cos_lib = cosine_similarity(query_rep,doc_rep)"
      ],
      "execution_count": 0,
      "outputs": []
    },
    {
      "cell_type": "code",
      "metadata": {
        "id": "XrNHol90zWmK",
        "colab_type": "code",
        "colab": {}
      },
      "source": [
        "import pandas as pd\n",
        "df3=pd.read_csv('drive/My Drive/file_names.csv')\n",
        "\n",
        "import pandas as pd\n",
        "df4=pd.read_csv('drive/My Drive/relevant_docs.csv')"
      ],
      "execution_count": 0,
      "outputs": []
    },
    {
      "cell_type": "markdown",
      "metadata": {
        "id": "awpmW1VjWWGS",
        "colab_type": "text"
      },
      "source": [
        "Note: **Threshold has been taken as 0.83**"
      ]
    },
    {
      "cell_type": "code",
      "metadata": {
        "id": "mdpAaQVUy_zw",
        "colab_type": "code",
        "outputId": "47b29024-9ec9-4be8-831b-08db30fe5177",
        "colab": {
          "base_uri": "https://localhost:8080/",
          "height": 1000
        }
      },
      "source": [
        "dist=[]\n",
        "rel_docs=[] # to store relev\n",
        "actual_rel_docs=[] # actual rel\n",
        "rel_docs_ids=[] # to store indices of rel doc vectors\n",
        "p=0;\n",
        "for k in range(0,50):\n",
        "  dist=[]\n",
        "  a=[] # to store relev\n",
        "  b=[] # actual rel\n",
        "  ai=[] # to store indices of relev\n",
        "  for i in range(len(cos_lib[k])):\n",
        "    dist.append((i,cos_lib[k][i]))\n",
        "\n",
        "  dist=sorted(dist,key=lambda x:x[1],reverse=True)\n",
        "  print(\"Processing...\");\n",
        "  i=0;\n",
        "  while(dist[i][1]>=0.83 and i<125511):\n",
        "   # print(dist[i],\" \",df3[\"File_Name\"][dist[i][0]].split('\\\\')[-1])\n",
        "    a.append(df3[\"File_Name\"][dist[i][0]].split('\\\\')[-1])\n",
        "    ai.append(dist[i][0])\n",
        "    i=i+1;\n",
        "  \n",
        "  print(\"-----------\")\n",
        "  \n",
        "  print(\"Actual Relevant docs: \")\n",
        "  mdf=(df4[df4[\"Id\"]==k+76])\n",
        "  #print(mdf)\n",
        "  #print(len(mdf))\n",
        "  \n",
        "  for i in range(len(mdf)):\n",
        "    b.append(mdf[\"Doc_Name\"][p])\n",
        "    #print(mdf[\"Doc_Name\"][p])\n",
        "    p=p+1;\n",
        "  rel_docs.append(a)\n",
        "  actual_rel_docs.append(b) # actual rel\n",
        "  rel_docs_ids.append(ai)\n",
        "  print(\"------------------------------------\")"
      ],
      "execution_count": 0,
      "outputs": [
        {
          "output_type": "stream",
          "text": [
            "Processing...\n",
            "-----------\n",
            "Actual Relevant docs: \n",
            "------------------------------------\n",
            "Processing...\n",
            "-----------\n",
            "Actual Relevant docs: \n",
            "------------------------------------\n",
            "Processing...\n",
            "-----------\n",
            "Actual Relevant docs: \n",
            "------------------------------------\n",
            "Processing...\n",
            "-----------\n",
            "Actual Relevant docs: \n",
            "------------------------------------\n",
            "Processing...\n",
            "-----------\n",
            "Actual Relevant docs: \n",
            "------------------------------------\n",
            "Processing...\n",
            "-----------\n",
            "Actual Relevant docs: \n",
            "------------------------------------\n",
            "Processing...\n",
            "-----------\n",
            "Actual Relevant docs: \n",
            "------------------------------------\n",
            "Processing...\n",
            "-----------\n",
            "Actual Relevant docs: \n",
            "------------------------------------\n",
            "Processing...\n",
            "-----------\n",
            "Actual Relevant docs: \n",
            "------------------------------------\n",
            "Processing...\n",
            "-----------\n",
            "Actual Relevant docs: \n",
            "------------------------------------\n",
            "Processing...\n",
            "-----------\n",
            "Actual Relevant docs: \n",
            "------------------------------------\n",
            "Processing...\n",
            "-----------\n",
            "Actual Relevant docs: \n",
            "------------------------------------\n",
            "Processing...\n",
            "-----------\n",
            "Actual Relevant docs: \n",
            "------------------------------------\n",
            "Processing...\n",
            "-----------\n",
            "Actual Relevant docs: \n",
            "------------------------------------\n",
            "Processing...\n",
            "-----------\n",
            "Actual Relevant docs: \n",
            "------------------------------------\n",
            "Processing...\n",
            "-----------\n",
            "Actual Relevant docs: \n",
            "------------------------------------\n",
            "Processing...\n",
            "-----------\n",
            "Actual Relevant docs: \n",
            "------------------------------------\n",
            "Processing...\n",
            "-----------\n",
            "Actual Relevant docs: \n",
            "------------------------------------\n",
            "Processing...\n",
            "-----------\n",
            "Actual Relevant docs: \n",
            "------------------------------------\n",
            "Processing...\n",
            "-----------\n",
            "Actual Relevant docs: \n",
            "------------------------------------\n",
            "Processing...\n",
            "-----------\n",
            "Actual Relevant docs: \n",
            "------------------------------------\n",
            "Processing...\n",
            "-----------\n",
            "Actual Relevant docs: \n",
            "------------------------------------\n",
            "Processing...\n",
            "-----------\n",
            "Actual Relevant docs: \n",
            "------------------------------------\n",
            "Processing...\n",
            "-----------\n",
            "Actual Relevant docs: \n",
            "------------------------------------\n",
            "Processing...\n",
            "-----------\n",
            "Actual Relevant docs: \n",
            "------------------------------------\n",
            "Processing...\n",
            "-----------\n",
            "Actual Relevant docs: \n",
            "------------------------------------\n",
            "Processing...\n",
            "-----------\n",
            "Actual Relevant docs: \n",
            "------------------------------------\n",
            "Processing...\n",
            "-----------\n",
            "Actual Relevant docs: \n",
            "------------------------------------\n",
            "Processing...\n",
            "-----------\n",
            "Actual Relevant docs: \n",
            "------------------------------------\n",
            "Processing...\n",
            "-----------\n",
            "Actual Relevant docs: \n",
            "------------------------------------\n",
            "Processing...\n",
            "-----------\n",
            "Actual Relevant docs: \n",
            "------------------------------------\n",
            "Processing...\n",
            "-----------\n",
            "Actual Relevant docs: \n",
            "------------------------------------\n",
            "Processing...\n",
            "-----------\n",
            "Actual Relevant docs: \n",
            "------------------------------------\n",
            "Processing...\n",
            "-----------\n",
            "Actual Relevant docs: \n",
            "------------------------------------\n",
            "Processing...\n",
            "-----------\n",
            "Actual Relevant docs: \n",
            "------------------------------------\n",
            "Processing...\n",
            "-----------\n",
            "Actual Relevant docs: \n",
            "------------------------------------\n",
            "Processing...\n",
            "-----------\n",
            "Actual Relevant docs: \n",
            "------------------------------------\n",
            "Processing...\n",
            "-----------\n",
            "Actual Relevant docs: \n",
            "------------------------------------\n",
            "Processing...\n",
            "-----------\n",
            "Actual Relevant docs: \n",
            "------------------------------------\n",
            "Processing...\n",
            "-----------\n",
            "Actual Relevant docs: \n",
            "------------------------------------\n",
            "Processing...\n",
            "-----------\n",
            "Actual Relevant docs: \n",
            "------------------------------------\n",
            "Processing...\n",
            "-----------\n",
            "Actual Relevant docs: \n",
            "------------------------------------\n",
            "Processing...\n",
            "-----------\n",
            "Actual Relevant docs: \n",
            "------------------------------------\n",
            "Processing...\n",
            "-----------\n",
            "Actual Relevant docs: \n",
            "------------------------------------\n",
            "Processing...\n",
            "-----------\n",
            "Actual Relevant docs: \n",
            "------------------------------------\n",
            "Processing...\n",
            "-----------\n",
            "Actual Relevant docs: \n",
            "------------------------------------\n",
            "Processing...\n",
            "-----------\n",
            "Actual Relevant docs: \n",
            "------------------------------------\n",
            "Processing...\n",
            "-----------\n",
            "Actual Relevant docs: \n",
            "------------------------------------\n",
            "Processing...\n",
            "-----------\n",
            "Actual Relevant docs: \n",
            "------------------------------------\n",
            "Processing...\n",
            "-----------\n",
            "Actual Relevant docs: \n",
            "------------------------------------\n"
          ],
          "name": "stdout"
        }
      ]
    },
    {
      "cell_type": "code",
      "metadata": {
        "id": "GTYQlTzI5GQL",
        "colab_type": "code",
        "outputId": "4b3bef70-17e1-4ec0-9676-9f191de82eba",
        "colab": {
          "base_uri": "https://localhost:8080/",
          "height": 867
        }
      },
      "source": [
        "matches=0\n",
        "for i in range(50):\n",
        "  print(len(actual_rel_docs[i]),\" \",len(set(rel_docs[i]) & set(actual_rel_docs[i])))"
      ],
      "execution_count": 0,
      "outputs": [
        {
          "output_type": "stream",
          "text": [
            "5   4\n",
            "20   4\n",
            "3   2\n",
            "4   0\n",
            "8   2\n",
            "6   5\n",
            "23   5\n",
            "9   3\n",
            "3   1\n",
            "22   10\n",
            "7   6\n",
            "9   6\n",
            "22   19\n",
            "47   14\n",
            "5   5\n",
            "12   1\n",
            "38   0\n",
            "19   13\n",
            "25   0\n",
            "11   1\n",
            "3   2\n",
            "22   8\n",
            "5   0\n",
            "3   0\n",
            "21   6\n",
            "13   9\n",
            "17   0\n",
            "7   1\n",
            "8   2\n",
            "13   12\n",
            "4   0\n",
            "14   10\n",
            "11   5\n",
            "10   5\n",
            "11   2\n",
            "16   0\n",
            "17   0\n",
            "14   0\n",
            "8   3\n",
            "19   1\n",
            "10   1\n",
            "1   1\n",
            "10   7\n",
            "7   0\n",
            "12   8\n",
            "21   0\n",
            "20   3\n",
            "19   1\n",
            "7   1\n",
            "13   0\n"
          ],
          "name": "stdout"
        }
      ]
    },
    {
      "cell_type": "code",
      "metadata": {
        "id": "kT_VTGLYGXXX",
        "colab_type": "code",
        "outputId": "262b4be9-115c-46d8-cd38-f2e94cdea7a5",
        "colab": {
          "base_uri": "https://localhost:8080/",
          "height": 34
        }
      },
      "source": [
        "matches=0\n",
        "for i in range(50):\n",
        "  matches=matches+len(set(rel_docs[i]) & set(actual_rel_docs[i]))\n",
        "\n",
        "print(\"Total Matches: \",matches)"
      ],
      "execution_count": 0,
      "outputs": [
        {
          "output_type": "stream",
          "text": [
            "Total Matches:  191\n"
          ],
          "name": "stdout"
        }
      ]
    },
    {
      "cell_type": "code",
      "metadata": {
        "id": "xTbmzLgBJwth",
        "colab_type": "code",
        "outputId": "f8dd0dfa-fceb-420f-9ed6-85f7b194e74b",
        "colab": {
          "base_uri": "https://localhost:8080/",
          "height": 54
        }
      },
      "source": [
        "print(list(set(rel_docs[0]) & set(actual_rel_docs[0])))"
      ],
      "execution_count": 0,
      "outputs": [
        {
          "output_type": "stream",
          "text": [
            "['1070602_nation_story_7865940.utf8', '1070603_nation_story_7869357.utf8', '1070611_nation_story_7906812.utf8', '1040901_nation_story_3702283.utf8']\n"
          ],
          "name": "stdout"
        }
      ]
    },
    {
      "cell_type": "code",
      "metadata": {
        "id": "XCFgALFpI_fk",
        "colab_type": "code",
        "colab": {}
      },
      "source": [
        "import pandas as pd\n",
        "df5=pd.read_csv('drive/My Drive/file_names_new.csv')"
      ],
      "execution_count": 0,
      "outputs": []
    },
    {
      "cell_type": "markdown",
      "metadata": {
        "id": "Rs3rljT9cTX2",
        "colab_type": "text"
      },
      "source": [
        "Storing Relevant and Non-Relevant vectors for each query"
      ]
    },
    {
      "cell_type": "code",
      "metadata": {
        "id": "JXrS4hypJJlK",
        "colab_type": "code",
        "outputId": "1a2d3815-8579-4a23-9aa0-a5d6771d08ee",
        "colab": {
          "base_uri": "https://localhost:8080/",
          "height": 955
        }
      },
      "source": [
        "dr_rev=np.zeros((50,100),dtype='float32')\n",
        "ndr_rev=np.zeros((50,100),dtype='float32')\n",
        "for i in range(50):\n",
        "  dr=[]\n",
        "  ndr=[]\n",
        "  print(\"processing\")\n",
        "  matched_files=list(set(rel_docs[i]) & set(actual_rel_docs[i]))\n",
        "  for k in range(125511):\n",
        "    if(df5[\"File_Name\"][k] in matched_files):\n",
        "      dr.append(doc_rep[k]) # storing relevant vectors \n",
        "    else:\n",
        "      ndr.append(doc_rep[k]) # storing non relevant vectors\n",
        "  \n",
        "  dr_arr=np.array(dr) # conversion into array\n",
        "  ndr_arr=np.array(ndr)\n",
        "  dr_rev[i]=np.average(dr_arr,axis=0) #finding average of all relevant doc vectors\n",
        "  ndr_rev[i]=np.average(ndr_arr,axis=0)"
      ],
      "execution_count": 0,
      "outputs": [
        {
          "output_type": "stream",
          "text": [
            "processing\n",
            "processing\n",
            "processing\n",
            "processing\n"
          ],
          "name": "stdout"
        },
        {
          "output_type": "stream",
          "text": [
            "/usr/local/lib/python3.6/dist-packages/numpy/lib/function_base.py:393: RuntimeWarning: Mean of empty slice.\n",
            "  avg = a.mean(axis)\n",
            "/usr/local/lib/python3.6/dist-packages/numpy/core/_methods.py:161: RuntimeWarning: invalid value encountered in double_scalars\n",
            "  ret = ret.dtype.type(ret / rcount)\n"
          ],
          "name": "stderr"
        },
        {
          "output_type": "stream",
          "text": [
            "processing\n",
            "processing\n",
            "processing\n",
            "processing\n",
            "processing\n",
            "processing\n",
            "processing\n",
            "processing\n",
            "processing\n",
            "processing\n",
            "processing\n",
            "processing\n",
            "processing\n",
            "processing\n",
            "processing\n",
            "processing\n",
            "processing\n",
            "processing\n",
            "processing\n",
            "processing\n",
            "processing\n",
            "processing\n",
            "processing\n",
            "processing\n",
            "processing\n",
            "processing\n",
            "processing\n",
            "processing\n",
            "processing\n",
            "processing\n",
            "processing\n",
            "processing\n",
            "processing\n",
            "processing\n",
            "processing\n",
            "processing\n",
            "processing\n",
            "processing\n",
            "processing\n",
            "processing\n",
            "processing\n",
            "processing\n",
            "processing\n",
            "processing\n",
            "processing\n",
            "processing\n"
          ],
          "name": "stdout"
        }
      ]
    },
    {
      "cell_type": "code",
      "metadata": {
        "id": "8vG-YcEdOOmk",
        "colab_type": "code",
        "outputId": "e39e7981-3bfa-480b-c9cf-cd9c8c90680a",
        "colab": {
          "base_uri": "https://localhost:8080/",
          "height": 306
        }
      },
      "source": [
        "print(dr_rev[4])"
      ],
      "execution_count": 0,
      "outputs": [
        {
          "output_type": "stream",
          "text": [
            "[ 0.17489338  0.165007   -0.18037026 -0.06686243  0.40938255  0.24050386\n",
            "  0.05484399 -0.01986844  0.60559773 -0.68563646 -0.13316394 -0.2776184\n",
            "  0.05751168  0.29554704 -0.00387559  0.26320407  0.22360873 -0.17462482\n",
            " -0.1753766   0.11892575  0.13384472 -0.00600607  0.4074545  -0.02290263\n",
            "  0.03623313 -0.23599319 -0.30831888 -0.12849821 -0.18349868  0.350342\n",
            " -0.21881266 -0.21352512  0.09438553  0.11115818  0.00525315  0.2168932\n",
            " -0.01641205  0.66164035  0.13384831 -0.09364513 -0.10627553 -0.32285216\n",
            " -0.27133974 -0.02120701  0.3265643  -0.37005582 -0.40882444  0.16829258\n",
            " -0.01503256 -0.2530879  -0.05947053 -0.14065918 -0.34453514 -0.36982927\n",
            "  0.07381889 -0.193138   -0.12315749  0.03013054 -0.3467801   0.11666399\n",
            " -0.15175796  0.37923217  0.04777327 -0.10443452 -0.18058433  0.5571843\n",
            " -0.18302847 -0.16344418  0.17697395 -0.43335828  0.23316522 -0.18062298\n",
            " -0.20108889  0.19607848 -0.0639543   0.3073893  -0.08353105 -0.44624075\n",
            "  0.14886652 -0.2171393   0.33865848 -0.3486105   0.07973791  0.0424745\n",
            " -0.0380094  -0.04685041  0.51969284 -0.00421523 -0.09980399  0.15447986\n",
            "  0.2452802   0.11077308  0.1359468  -0.28445113 -0.05003966  0.01968639\n",
            " -0.29743943 -0.09723809  0.32075498 -0.08976268]\n"
          ],
          "name": "stdout"
        }
      ]
    },
    {
      "cell_type": "markdown",
      "metadata": {
        "id": "4rwO5fADcWYZ",
        "colab_type": "text"
      },
      "source": [
        "ROCCHIO Algorithm implementation"
      ]
    },
    {
      "cell_type": "code",
      "metadata": {
        "id": "mjk6QRWhN7wz",
        "colab_type": "code",
        "colab": {}
      },
      "source": [
        "beta=0.75\n",
        "gamma=0\n",
        "mod_q=np.zeros((50,100),dtype='float32')\n",
        "for i in range(50):\n",
        "  if(len(list(set(rel_docs[i]) & set(actual_rel_docs[i])))>0): # checking no. of matches > 0 or not\n",
        "    total_rel=len(list(set(rel_docs[i]) & set(actual_rel_docs[i])));\n",
        "    total_non_rel=125511-total_rel\n",
        "    term=beta/total_rel;\n",
        "    mod_q[i]=np.add(query_rep[i],term*dr_rev[i])\n",
        "  else:\n",
        "    mod_q[i]=query_rep[i]\n"
      ],
      "execution_count": 0,
      "outputs": []
    },
    {
      "cell_type": "code",
      "metadata": {
        "id": "Q-YucLgTRsb3",
        "colab_type": "code",
        "outputId": "515da672-8170-4427-b8a0-b45a95bfca50",
        "colab": {
          "base_uri": "https://localhost:8080/",
          "height": 306
        }
      },
      "source": [
        "print(query_rep[1])"
      ],
      "execution_count": 0,
      "outputs": [
        {
          "output_type": "stream",
          "text": [
            "[-0.17854245  0.12555636 -0.35071468 -0.08304387  0.30471975  0.07430983\n",
            "  0.24992079  0.19946437  0.82482666 -0.67209965 -0.12776779 -0.3130162\n",
            "  0.49756286  0.17624891 -0.26101702  0.3335806   0.15055116 -0.03607667\n",
            " -0.38505483  0.21868862 -0.03247211  0.02342695  0.32564238  0.25632682\n",
            "  0.27206585 -0.24816124 -0.19837065  0.03843203  0.09454639  0.27066457\n",
            " -0.39063284  0.02666064  0.07926484  0.01865079  0.22574836  0.12018254\n",
            "  0.13322885  0.23490095  0.06448142 -0.4727353   0.33408478 -0.5770214\n",
            " -0.25758442  0.2848422   0.01275477 -0.61499196 -0.13797621  0.19366394\n",
            "  0.08383601 -0.11163533  0.01836526 -0.34223303 -0.32481498 -0.25460246\n",
            "  0.00906034 -0.49969435 -0.5433059   0.22994147 -0.0316832   0.17462033\n",
            " -0.16950904  0.5696799  -0.0682418  -0.36653912 -0.2636133   0.33851478\n",
            " -0.3309891  -0.16808383 -0.03129688  0.02096666  0.44607434 -0.8118524\n",
            " -0.12935837  0.34888396 -0.24145143  0.15798569  0.12613405 -0.4701724\n",
            "  0.08468159  0.07197347  0.18541443 -0.21821357  0.19224171  0.04900791\n",
            "  0.20413178 -0.23817758  0.37472734  0.04599221  0.17292452 -0.15249111\n",
            "  0.21439373 -0.17291836  0.5380197   0.20719773  0.1512269  -0.00883887\n",
            " -0.3670243   0.05323416  0.4644557  -0.13346751]\n"
          ],
          "name": "stdout"
        }
      ]
    },
    {
      "cell_type": "code",
      "metadata": {
        "id": "hJsfQEC2RvmT",
        "colab_type": "code",
        "outputId": "587854a4-7a72-4c13-c125-240f4a215054",
        "colab": {
          "base_uri": "https://localhost:8080/",
          "height": 442
        }
      },
      "source": [
        "print(mod_q[1])"
      ],
      "execution_count": 0,
      "outputs": [
        {
          "output_type": "stream",
          "text": [
            "[-1.88759029e-01  1.42829001e-01 -3.74821097e-01 -9.46791768e-02\n",
            "  3.47334862e-01  1.03676453e-01  2.76318669e-01  2.14544401e-01\n",
            "  9.06726718e-01 -7.64554501e-01 -1.41038179e-01 -3.62241864e-01\n",
            "  5.14188468e-01  2.13741213e-01 -2.85478055e-01  3.71384650e-01\n",
            "  1.82030216e-01 -5.17089963e-02 -4.17333215e-01  2.44845629e-01\n",
            " -1.96102783e-02  4.07879613e-02  3.73430848e-01  2.77852535e-01\n",
            "  2.88715541e-01 -2.85537004e-01 -2.66004205e-01  4.10807692e-02\n",
            "  7.98154399e-02  3.01225215e-01 -4.19256538e-01 -5.05834818e-04\n",
            "  1.01103030e-01  6.90104160e-03  2.36267000e-01  1.46759182e-01\n",
            "  1.41248778e-01  3.14407647e-01  8.03027377e-02 -4.95852381e-01\n",
            "  3.48489970e-01 -6.30953729e-01 -2.83209294e-01  2.84536690e-01\n",
            "  3.42602804e-02 -6.95031166e-01 -1.78478047e-01  2.17415974e-01\n",
            "  9.51353386e-02 -1.45327672e-01  1.38374604e-02 -3.86085153e-01\n",
            " -3.72249842e-01 -2.93456793e-01  1.72169246e-02 -5.66506863e-01\n",
            " -5.83090782e-01  2.54438490e-01 -3.95362154e-02  2.04888865e-01\n",
            " -1.82662800e-01  6.25907302e-01 -8.36379007e-02 -3.84267241e-01\n",
            " -2.81934500e-01  4.18538868e-01 -3.71831000e-01 -1.94927990e-01\n",
            " -2.48501226e-02 -2.29548998e-02  4.76040661e-01 -8.64306271e-01\n",
            " -1.60824567e-01  3.76369387e-01 -2.63325781e-01  1.86897263e-01\n",
            "  1.17108285e-01 -5.34673810e-01  9.77404341e-02  7.23415837e-02\n",
            "  2.13523090e-01 -2.36327752e-01  2.06085309e-01  4.58978638e-02\n",
            "  2.18207076e-01 -2.49998063e-01  4.53310907e-01  4.69319299e-02\n",
            "  1.70241266e-01 -1.46479353e-01  2.43274868e-01 -1.60589308e-01\n",
            "  5.72268426e-01  1.98909432e-01  1.55766860e-01  1.30276848e-03\n",
            " -3.90203267e-01  6.41402379e-02  5.18631160e-01 -1.52423024e-01]\n"
          ],
          "name": "stdout"
        }
      ]
    },
    {
      "cell_type": "markdown",
      "metadata": {
        "id": "NtTfyxTlcaXP",
        "colab_type": "text"
      },
      "source": [
        "Cosine Similarity using Modified Query"
      ]
    },
    {
      "cell_type": "code",
      "metadata": {
        "id": "MakAmpxLT1d3",
        "colab_type": "code",
        "colab": {}
      },
      "source": [
        "#finding relevant with the modified query\n",
        "\n",
        "from sklearn.metrics.pairwise import cosine_similarity\n",
        "cos_lib2 = cosine_similarity(mod_q,doc_rep)"
      ],
      "execution_count": 0,
      "outputs": []
    },
    {
      "cell_type": "code",
      "metadata": {
        "id": "RTcQelMwUYpk",
        "colab_type": "code",
        "outputId": "64041afc-f71f-4f2a-c15c-d479bf1f5036",
        "colab": {
          "base_uri": "https://localhost:8080/",
          "height": 34
        }
      },
      "source": [
        "print(cos_lib2.shape)"
      ],
      "execution_count": 0,
      "outputs": [
        {
          "output_type": "stream",
          "text": [
            "(50, 125511)\n"
          ],
          "name": "stdout"
        }
      ]
    },
    {
      "cell_type": "code",
      "metadata": {
        "id": "arcoUo31UEa6",
        "colab_type": "code",
        "colab": {}
      },
      "source": [
        "dist2=[]\n",
        "for i in range(len(cos_lib2[0])):\n",
        "  dist2.append((i,cos_lib2[0][i]))\n",
        "\n",
        "dist2=sorted(dist,key=lambda x:x[1],reverse=True)"
      ],
      "execution_count": 0,
      "outputs": []
    },
    {
      "cell_type": "markdown",
      "metadata": {
        "id": "Fn5VX8zKcdgR",
        "colab_type": "text"
      },
      "source": [
        "Calculation of final relevant docs for each query"
      ]
    },
    {
      "cell_type": "code",
      "metadata": {
        "id": "lbN3oc_lUkxW",
        "colab_type": "code",
        "outputId": "9f5a125f-cd56-4838-9e85-68addddca2df",
        "colab": {
          "base_uri": "https://localhost:8080/",
          "height": 1000
        }
      },
      "source": [
        "rel_docs2=[] # to store relev\n",
        "p=0;\n",
        "for k in range(0,50):\n",
        "  dist2=[]\n",
        "  a2=[] # to store relev\n",
        "  b2=[] # actual rel\n",
        "  for i in range(len(cos_lib2[k])):\n",
        "    dist2.append((i,cos_lib2[k][i]))\n",
        "\n",
        "  dist2=sorted(dist2,key=lambda x:x[1],reverse=True)\n",
        "  print(\"Processing...\");\n",
        "  i=0;\n",
        "  while(dist2[i][1]>=0.83 and i<125511):\n",
        "   # print(dist[i],\" \",df3[\"File_Name\"][dist[i][0]].split('\\\\')[-1])\n",
        "    a2.append(df3[\"File_Name\"][dist2[i][0]].split('\\\\')[-1])\n",
        "    i=i+1;\n",
        "  \n",
        "  rel_docs2.append(a2)\n",
        "\n",
        "  print(\"------------------------------------\")"
      ],
      "execution_count": 0,
      "outputs": [
        {
          "output_type": "stream",
          "text": [
            "Processing...\n",
            "------------------------------------\n",
            "Processing...\n",
            "------------------------------------\n",
            "Processing...\n",
            "------------------------------------\n",
            "Processing...\n",
            "------------------------------------\n",
            "Processing...\n",
            "------------------------------------\n",
            "Processing...\n",
            "------------------------------------\n",
            "Processing...\n",
            "------------------------------------\n",
            "Processing...\n",
            "------------------------------------\n",
            "Processing...\n",
            "------------------------------------\n",
            "Processing...\n",
            "------------------------------------\n",
            "Processing...\n",
            "------------------------------------\n",
            "Processing...\n",
            "------------------------------------\n",
            "Processing...\n",
            "------------------------------------\n",
            "Processing...\n",
            "------------------------------------\n",
            "Processing...\n",
            "------------------------------------\n",
            "Processing...\n",
            "------------------------------------\n",
            "Processing...\n",
            "------------------------------------\n",
            "Processing...\n",
            "------------------------------------\n",
            "Processing...\n",
            "------------------------------------\n",
            "Processing...\n",
            "------------------------------------\n",
            "Processing...\n",
            "------------------------------------\n",
            "Processing...\n",
            "------------------------------------\n",
            "Processing...\n",
            "------------------------------------\n",
            "Processing...\n",
            "------------------------------------\n",
            "Processing...\n",
            "------------------------------------\n",
            "Processing...\n",
            "------------------------------------\n",
            "Processing...\n",
            "------------------------------------\n",
            "Processing...\n",
            "------------------------------------\n",
            "Processing...\n",
            "------------------------------------\n",
            "Processing...\n",
            "------------------------------------\n",
            "Processing...\n",
            "------------------------------------\n",
            "Processing...\n",
            "------------------------------------\n",
            "Processing...\n",
            "------------------------------------\n",
            "Processing...\n",
            "------------------------------------\n",
            "Processing...\n",
            "------------------------------------\n",
            "Processing...\n",
            "------------------------------------\n",
            "Processing...\n",
            "------------------------------------\n",
            "Processing...\n",
            "------------------------------------\n",
            "Processing...\n",
            "------------------------------------\n",
            "Processing...\n",
            "------------------------------------\n",
            "Processing...\n",
            "------------------------------------\n",
            "Processing...\n",
            "------------------------------------\n",
            "Processing...\n",
            "------------------------------------\n",
            "Processing...\n",
            "------------------------------------\n",
            "Processing...\n",
            "------------------------------------\n",
            "Processing...\n",
            "------------------------------------\n",
            "Processing...\n",
            "------------------------------------\n",
            "Processing...\n",
            "------------------------------------\n",
            "Processing...\n",
            "------------------------------------\n",
            "Processing...\n",
            "------------------------------------\n"
          ],
          "name": "stdout"
        }
      ]
    },
    {
      "cell_type": "code",
      "metadata": {
        "id": "mV5Mq-BqV0Cx",
        "colab_type": "code",
        "outputId": "6ea15bb5-c419-41b9-a4e8-c038b21c7f59",
        "colab": {
          "base_uri": "https://localhost:8080/",
          "height": 34
        }
      },
      "source": [
        "matches=0\n",
        "for i in range(50):\n",
        "  matches=matches+len(set(rel_docs2[i]) & set(actual_rel_docs[i]))\n",
        "\n",
        "print(\"Total Matches: \",matches)"
      ],
      "execution_count": 0,
      "outputs": [
        {
          "output_type": "stream",
          "text": [
            "Total Matches:  320\n"
          ],
          "name": "stdout"
        }
      ]
    },
    {
      "cell_type": "markdown",
      "metadata": {
        "id": "Y7NIirExWBdm",
        "colab_type": "text"
      },
      "source": [
        "As we can see, no. of matches increased from 191 to 320 after implementing Rocchio Algorithm"
      ]
    },
    {
      "cell_type": "code",
      "metadata": {
        "id": "w9f-7AoWYRxb",
        "colab_type": "code",
        "outputId": "5c8c48aa-ed1d-47b2-96cf-70871e381c77",
        "colab": {
          "base_uri": "https://localhost:8080/",
          "height": 51
        }
      },
      "source": [
        "print(\"Average Precison: \", matches/125511)\n",
        "print(\"Average Recall: \", matches/653)"
      ],
      "execution_count": 0,
      "outputs": [
        {
          "output_type": "stream",
          "text": [
            "Average Precison:  0.0025495773278836117\n",
            "Average Recall:  0.4900459418070444\n"
          ],
          "name": "stdout"
        }
      ]
    }
  ]
}