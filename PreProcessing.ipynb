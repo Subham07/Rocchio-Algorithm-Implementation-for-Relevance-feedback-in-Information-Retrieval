{
 "cells": [
  {
   "cell_type": "code",
   "execution_count": null,
   "metadata": {},
   "outputs": [],
   "source": [
    "import nltk\n",
    "import pandas as pd\n",
    "import os\n",
    "import glob\n",
    "import xml.etree.ElementTree as ET\n",
    "import nltk\n",
    "import pandas as pd\n",
    "import os\n",
    "#os.chdir('C:/Users/Subham/IRLab/Assignment3/FIRE_Dataset_EN_2010/TELEGRAPH_UTF8')"
   ]
  },
  {
   "cell_type": "markdown",
   "metadata": {},
   "source": [
    "# Storing files"
   ]
  },
  {
   "cell_type": "code",
   "execution_count": 18,
   "metadata": {},
   "outputs": [
    {
     "name": "stdout",
     "output_type": "stream",
     "text": [
      "0\n"
     ]
    }
   ],
   "source": [
    "listOfFiles=list()\n",
    "i=0;\n",
    "for root, dirs, filenames in os.walk('C:/Users/Subham/IRLab/Assignment3/FIRE_Dataset_EN_2010/TELEGRAPH_UTF8'):\n",
    "    listOfFiles+=[os.path.join(root, file) for file in filenames]\n",
    "    if(i%10000==0):\n",
    "        print(i)\n",
    "    i=i+1;\n"
   ]
  },
  {
   "cell_type": "code",
   "execution_count": 19,
   "metadata": {},
   "outputs": [
    {
     "data": {
      "text/plain": [
       "125586"
      ]
     },
     "execution_count": 19,
     "metadata": {},
     "output_type": "execute_result"
    }
   ],
   "source": [
    "len(listOfFiles)"
   ]
  },
  {
   "cell_type": "markdown",
   "metadata": {},
   "source": [
    "# Reading data from files"
   ]
  },
  {
   "cell_type": "code",
   "execution_count": 20,
   "metadata": {},
   "outputs": [
    {
     "name": "stdout",
     "output_type": "stream",
     "text": [
      "10000\n",
      "20000\n",
      "30000\n",
      "40000\n",
      "50000\n",
      "60000\n",
      "70000\n",
      "80000\n",
      "90000\n",
      "100000\n",
      "110000\n",
      "120000\n",
      "\n",
      "\n",
      "\n",
      "The Telegraph - Calcutta : At Leisure\n",
      "\n",
      " Tuesday, December 07, 2004 \n",
      "\n",
      " For Leonardo DiCaprio, it was one of those moments when he didn?t know whether to laugh or cry. There he was, in a South American rainforest, studying the effects of mercury poisoning in the Amazon, when he was confronted by a group of naked Ind... \n",
      "\n",
      " Six Oscars and big profits for Chicago have sparked a new frenzy for filming musicals, with Andrew Lloyd Webber?s ... \n",
      "\n",
      " Couples who live together in Britain without getting married were warned today that they risk losing their homes and pos ... \n",
      "\n",
      " It may come down with a crunch ? or a squelch. Its creators are hoping for a splash. ... \n",
      "\n",
      " French fashion legend Pierre Cardin is putting much of his empire up for sale, seeking $1 billion for his couture and licens ... \n",
      "\n",
      "THE FAMILY\n",
      "\n",
      "Astonishingly, even today, many parents \n",
      "\n",
      "believe in bringing up their daughters in the security of a gilded cage, insulated \n",
      "\n",
      "My first cousin, 27 years old, wants \n",
      "\n",
      "to get married. Her parents are particularly interested in a friend of mine who \n",
      "\n",
      " Actor Diane Kruger at the UK premiere of the film National Treasure in London. (Reuters)\n",
      "\n",
      "\n",
      "\n",
      "\n",
      "\n"
     ]
    }
   ],
   "source": [
    "import xml.etree.ElementTree as ET\n",
    "c=0;\n",
    "docs=[]\n",
    "for file in listOfFiles:\n",
    "    try:\n",
    "        c=c+1;\n",
    "        tree=ET.parse(file);\n",
    "        root=tree.getroot();\n",
    "        for child in root.iter('TEXT'):\n",
    "            docs.append(child.text)\n",
    "        if(c%10000==0):\n",
    "            print(c);\n",
    "    except:\n",
    "        c-=1;\n",
    "        continue;\n",
    "print(docs[0]);"
   ]
  },
  {
   "cell_type": "code",
   "execution_count": 21,
   "metadata": {},
   "outputs": [
    {
     "name": "stdout",
     "output_type": "stream",
     "text": [
      "125581\n"
     ]
    }
   ],
   "source": [
    "print(len(docs))"
   ]
  },
  {
   "cell_type": "code",
   "execution_count": 22,
   "metadata": {},
   "outputs": [],
   "source": [
    "file_names=[]\n",
    "docs2=[]\n",
    "p=0;\n",
    "for i in range(len(docs)):\n",
    "    if(len(docs[i])>6):\n",
    "        docs2.append(docs[i])\n",
    "        file_names.append((p,listOfFiles[i]))\n",
    "        p=p+1\n",
    "docs3=[]\n",
    "docs3=docs2"
   ]
  },
  {
   "cell_type": "code",
   "execution_count": 24,
   "metadata": {},
   "outputs": [
    {
     "name": "stdout",
     "output_type": "stream",
     "text": [
      "125511\n"
     ]
    }
   ],
   "source": [
    "docs=[]\n",
    "docs=docs3\n",
    "print(len(docs))"
   ]
  },
  {
   "cell_type": "code",
   "execution_count": 27,
   "metadata": {},
   "outputs": [],
   "source": [
    "import pandas as pd\n",
    "data2=[]\n",
    "\n",
    "for i in range(125511):\n",
    "    l=[]\n",
    "    l.append(file_names[i][0])\n",
    "    l.append(file_names[i][1]);\n",
    "    data2.append(l)\n",
    "    \n",
    "df2 = pd.DataFrame(data2, columns = ['DocId', 'File_Name'])\n",
    "df2.to_csv('C:/Users/Subham/IRLab/file_names.csv',index=False, header=True)"
   ]
  },
  {
   "cell_type": "code",
   "execution_count": 36,
   "metadata": {},
   "outputs": [
    {
     "name": "stdout",
     "output_type": "stream",
     "text": [
      "695\n"
     ]
    }
   ],
   "source": [
    "print(len(docs[1]))"
   ]
  },
  {
   "cell_type": "markdown",
   "metadata": {},
   "source": [
    "# Removing punctuations"
   ]
  },
  {
   "cell_type": "code",
   "execution_count": 38,
   "metadata": {},
   "outputs": [
    {
     "name": "stdout",
     "output_type": "stream",
     "text": [
      "\n",
      "\n",
      "\n",
      "The Telegraph  Calcutta  At Leisure\n",
      "\n",
      " Tuesday December 07 2004 \n",
      "\n",
      " For Leonardo DiCaprio it was one of those moments when he didnt know whether to laugh or cry There he was in a South American rainforest studying the effects of mercury poisoning in the Amazon when he was confronted by a group of naked Ind \n",
      "\n",
      " Six Oscars and big profits for Chicago have sparked a new frenzy for filming musicals with Andrew Lloyd Webbers  \n",
      "\n",
      " Couples who live together in Britain without getting married were warned today that they risk losing their homes and pos  \n",
      "\n",
      " It may come down with a crunch  or a squelch Its creators are hoping for a splash  \n",
      "\n",
      " French fashion legend Pierre Cardin is putting much of his empire up for sale seeking 1 billion for his couture and licens  \n",
      "\n",
      "THE FAMILY\n",
      "\n",
      "Astonishingly even today many parents \n",
      "\n",
      "believe in bringing up their daughters in the security of a gilded cage insulated \n",
      "\n",
      "My first cousin 27 years old wants \n",
      "\n",
      "to get married Her parents are particularly interested in a friend of mine who \n",
      "\n",
      " Actor Diane Kruger at the UK premiere of the film National Treasure in London Reuters\n",
      "\n",
      "\n",
      "\n",
      "\n",
      "\n"
     ]
    }
   ],
   "source": [
    "punctuations = '''!()[]{};:\"\\,<>./?@#$%^&*_~-'''\n",
    "docs2=[];\n",
    "i=0;\n",
    "for sent in docs:\n",
    "    s=\"\"\n",
    "    for x in sent:\n",
    "        if(x not in punctuations):\n",
    "            s=s+x;\n",
    "    docs2.append(s);\n",
    "\n",
    "\n",
    "docs=docs2;\n",
    "docs2=[]\n",
    "print(docs[0])"
   ]
  },
  {
   "cell_type": "code",
   "execution_count": 39,
   "metadata": {},
   "outputs": [],
   "source": [
    "docs2=[]\n",
    "for sent in docs:\n",
    "    s=\"\"\n",
    "    sent=' '.join(sent.split())\n",
    "    docs2.append(sent);\n",
    "\n",
    "docs=docs2;\n",
    "docs2=[]\n"
   ]
  },
  {
   "cell_type": "code",
   "execution_count": 40,
   "metadata": {},
   "outputs": [
    {
     "name": "stdout",
     "output_type": "stream",
     "text": [
      "125511\n"
     ]
    }
   ],
   "source": [
    "print(len(docs))"
   ]
  },
  {
   "cell_type": "markdown",
   "metadata": {},
   "source": [
    "# converting to lowercase"
   ]
  },
  {
   "cell_type": "code",
   "execution_count": 41,
   "metadata": {},
   "outputs": [
    {
     "name": "stdout",
     "output_type": "stream",
     "text": [
      "the telegraph calcutta at leisure tuesday december 07 2004 for leonardo dicaprio it was one of those moments when he didnt know whether to laugh or cry there he was in a south american rainforest studying the effects of mercury poisoning in the amazon when he was confronted by a group of naked ind six oscars and big profits for chicago have sparked a new frenzy for filming musicals with andrew lloyd webbers couples who live together in britain without getting married were warned today that they risk losing their homes and pos it may come down with a crunch or a squelch its creators are hoping for a splash french fashion legend pierre cardin is putting much of his empire up for sale seeking 1 billion for his couture and licens the family astonishingly even today many parents believe in bringing up their daughters in the security of a gilded cage insulated my first cousin 27 years old wants to get married her parents are particularly interested in a friend of mine who actor diane kruger at the uk premiere of the film national treasure in london reuters\n"
     ]
    }
   ],
   "source": [
    "docs2=[]\n",
    "for sent in docs:\n",
    "    sent=sent.lower()\n",
    "    docs2.append(sent);\n",
    "\n",
    "docs=docs2;\n",
    "docs2=[]\n",
    "print(docs[0])"
   ]
  },
  {
   "cell_type": "code",
   "execution_count": 42,
   "metadata": {},
   "outputs": [
    {
     "name": "stdout",
     "output_type": "stream",
     "text": [
      "the telegraph calcutta at leisure tuesday december 07 2004 for leonardo dicaprio it was one of those moments when he didnt know whether to laugh or cry there he was in a south american rainforest studying the effects of mercury poisoning in the amazon when he was confronted by a group of naked ind six oscars and big profits for chicago have sparked a new frenzy for filming musicals with andrew lloyd webbers couples who live together in britain without getting married were warned today that they risk losing their homes and pos it may come down with a crunch or a squelch its creators are hoping for a splash french fashion legend pierre cardin is putting much of his empire up for sale seeking 1 billion for his couture and licens the family astonishingly even today many parents believe in bringing up their daughters in the security of a gilded cage insulated my first cousin 27 years old wants to get married her parents are particularly interested in a friend of mine who actor diane kruger at the uk premiere of the film national treasure in london reuters\n"
     ]
    }
   ],
   "source": [
    "print(docs[0])"
   ]
  },
  {
   "cell_type": "markdown",
   "metadata": {},
   "source": [
    "# Tokenize words"
   ]
  },
  {
   "cell_type": "code",
   "execution_count": 43,
   "metadata": {},
   "outputs": [
    {
     "name": "stdout",
     "output_type": "stream",
     "text": [
      "['the', 'telegraph', 'calcutta', 'at', 'leisure', 'tuesday', 'december', '07', '2004', 'for', 'leonardo', 'dicaprio', 'it', 'was', 'one', 'of', 'those', 'moments', 'when', 'he', 'didnt', 'know', 'whether', 'to', 'laugh', 'or', 'cry', 'there', 'he', 'was', 'in', 'a', 'south', 'american', 'rainforest', 'studying', 'the', 'effects', 'of', 'mercury', 'poisoning', 'in', 'the', 'amazon', 'when', 'he', 'was', 'confronted', 'by', 'a', 'group', 'of', 'naked', 'ind', 'six', 'oscars', 'and', 'big', 'profits', 'for', 'chicago', 'have', 'sparked', 'a', 'new', 'frenzy', 'for', 'filming', 'musicals', 'with', 'andrew', 'lloyd', 'webbers', 'couples', 'who', 'live', 'together', 'in', 'britain', 'without', 'getting', 'married', 'were', 'warned', 'today', 'that', 'they', 'risk', 'losing', 'their', 'homes', 'and', 'pos', 'it', 'may', 'come', 'down', 'with', 'a', 'crunch', 'or', 'a', 'squelch', 'its', 'creators', 'are', 'hoping', 'for', 'a', 'splash', 'french', 'fashion', 'legend', 'pierre', 'cardin', 'is', 'putting', 'much', 'of', 'his', 'empire', 'up', 'for', 'sale', 'seeking', '1', 'billion', 'for', 'his', 'couture', 'and', 'licens', 'the', 'family', 'astonishingly', 'even', 'today', 'many', 'parents', 'believe', 'in', 'bringing', 'up', 'their', 'daughters', 'in', 'the', 'security', 'of', 'a', 'gilded', 'cage', 'insulated', 'my', 'first', 'cousin', '27', 'years', 'old', 'wants', 'to', 'get', 'married', 'her', 'parents', 'are', 'particularly', 'interested', 'in', 'a', 'friend', 'of', 'mine', 'who', 'actor', 'diane', 'kruger', 'at', 'the', 'uk', 'premiere', 'of', 'the', 'film', 'national', 'treasure', 'in', 'london', 'reuters']\n"
     ]
    }
   ],
   "source": [
    "from nltk.tokenize import word_tokenize\n",
    "docs2=[]\n",
    "for sent in docs:\n",
    "    sent=word_tokenize(sent)\n",
    "    docs2.append(sent);\n",
    "\n",
    "docs=docs2;\n",
    "docs2=[]\n",
    "print(docs[0])"
   ]
  },
  {
   "cell_type": "markdown",
   "metadata": {},
   "source": [
    "# Removing stopwords"
   ]
  },
  {
   "cell_type": "code",
   "execution_count": 44,
   "metadata": {},
   "outputs": [],
   "source": [
    "from nltk.corpus import stopwords\n",
    "stop_words=set(stopwords.words(\"english\"));\n",
    "\n",
    "docs2=[]\n",
    "for sent in docs:\n",
    "    s=[];\n",
    "    for word in sent:\n",
    "        if(word not in stop_words):\n",
    "            s.append(word);\n",
    "    docs2.append(s);\n",
    "\n",
    "docs=docs2;\n",
    "docs2=[]\n"
   ]
  },
  {
   "cell_type": "code",
   "execution_count": 45,
   "metadata": {},
   "outputs": [
    {
     "name": "stdout",
     "output_type": "stream",
     "text": [
      "125511\n"
     ]
    }
   ],
   "source": [
    "print(len(docs))"
   ]
  },
  {
   "cell_type": "markdown",
   "metadata": {},
   "source": [
    "# Lemmatizing"
   ]
  },
  {
   "cell_type": "code",
   "execution_count": 46,
   "metadata": {},
   "outputs": [
    {
     "name": "stdout",
     "output_type": "stream",
     "text": [
      "['telegraph', 'calcutta', 'leisure', 'tuesday', 'december', '07', '2004', 'leonardo', 'dicaprio', 'one', 'moment', 'didnt', 'know', 'whether', 'laugh', 'cry', 'south', 'american', 'rainforest', 'studying', 'effect', 'mercury', 'poisoning', 'amazon', 'confronted', 'group', 'naked', 'ind', 'six', 'oscar', 'big', 'profit', 'chicago', 'sparked', 'new', 'frenzy', 'filming', 'musical', 'andrew', 'lloyd', 'webbers', 'couple', 'live', 'together', 'britain', 'without', 'getting', 'married', 'warned', 'today', 'risk', 'losing', 'home', 'po', 'may', 'come', 'crunch', 'squelch', 'creator', 'hoping', 'splash', 'french', 'fashion', 'legend', 'pierre', 'cardin', 'putting', 'much', 'empire', 'sale', 'seeking', '1', 'billion', 'couture', 'licens', 'family', 'astonishingly', 'even', 'today', 'many', 'parent', 'believe', 'bringing', 'daughter', 'security', 'gilded', 'cage', 'insulated', 'first', 'cousin', '27', 'year', 'old', 'want', 'get', 'married', 'parent', 'particularly', 'interested', 'friend', 'mine', 'actor', 'diane', 'kruger', 'uk', 'premiere', 'film', 'national', 'treasure', 'london', 'reuters']\n"
     ]
    }
   ],
   "source": [
    "from nltk.stem import WordNetLemmatizer\n",
    "\n",
    "lemmatizer=WordNetLemmatizer();\n",
    "docs2=[]\n",
    "for sent in docs:\n",
    "    s=[];\n",
    "    for word in sent:\n",
    "        s.append(lemmatizer.lemmatize(word));\n",
    "    docs2.append(s);\n",
    "\n",
    "docs=docs2;\n",
    "docs2=[]\n",
    "print(docs[0])"
   ]
  },
  {
   "cell_type": "markdown",
   "metadata": {},
   "source": [
    "# Removing digits"
   ]
  },
  {
   "cell_type": "code",
   "execution_count": 196,
   "metadata": {},
   "outputs": [
    {
     "name": "stdout",
     "output_type": "stream",
     "text": [
      "telegraph calcutta leisure friday december century anglofrench rivalry took turn favour le rosbifs today study predicted english learning would rocket coming decade interest french slump review art visual art portraiture prevails matter turn taste swing style courtly ritual vanity precamera day endured face face show music theatre bengal always tradition music early day much music composed keeping indian classical tradition mind sometimes deviat visual art arguably every imaginative artist try discover invent shape unknown within domain known search seemingly imponderable aesthetic george clooney girlfriend model lisa snowden premiere film ocean twelve hollywood reuters\n"
     ]
    }
   ],
   "source": [
    "docs2=[]\n",
    "for sent in docs:\n",
    "    sent2=sent.split(' ');\n",
    "    words=[]\n",
    "    for x in sent2:\n",
    "        flag=0;\n",
    "        for c in x:\n",
    "            if(c>='0' and c<='9'):\n",
    "                pass\n",
    "            else:\n",
    "                flag=1;\n",
    "                break;\n",
    "        if(flag==1):\n",
    "            words.append(x);\n",
    "    words=' '.join(words);\n",
    "    docs2.append(words)\n",
    "docs=docs2;\n",
    "docs2=[]\n",
    "print(docs[0])"
   ]
  },
  {
   "cell_type": "code",
   "execution_count": 47,
   "metadata": {},
   "outputs": [],
   "source": [
    "import pandas as pd\n",
    "data=[]\n",
    "\n",
    "for i in range(125511):\n",
    "    l=[]\n",
    "    l.append(i)\n",
    "    l.append(docs[i]);\n",
    "    data.append(l)\n",
    "    \n",
    "df = pd.DataFrame(data, columns = ['DocId', 'Tokens'])\n",
    "\n",
    "df.to_csv('C:/Users/Subham/IRLab/dataset.csv',index=False, header=True)"
   ]
  },
  {
   "cell_type": "markdown",
   "metadata": {},
   "source": [
    "# Extracting Queries"
   ]
  },
  {
   "cell_type": "code",
   "execution_count": 49,
   "metadata": {},
   "outputs": [],
   "source": [
    "import xml.dom.minidom\n",
    "import xml.etree.ElementTree as ET\n",
    "queries={}\n",
    "os.chdir('C:/Users/Subham/IRLab/Assignment3/FIRE_Dataset_EN_2010')\n",
    "doc=xml.dom.minidom.parse('C:/Users/Subham/IRLab/Assignment3/FIRE_Dataset_EN_2010/en.topics.76-125.2010.txt')"
   ]
  },
  {
   "cell_type": "code",
   "execution_count": 50,
   "metadata": {},
   "outputs": [],
   "source": [
    "query_ids=doc.getElementsByTagName(\"num\")"
   ]
  },
  {
   "cell_type": "code",
   "execution_count": 6,
   "metadata": {},
   "outputs": [
    {
     "name": "stdout",
     "output_type": "stream",
     "text": [
      "50\n"
     ]
    }
   ],
   "source": [
    "print(query_ids.length)"
   ]
  },
  {
   "cell_type": "code",
   "execution_count": 7,
   "metadata": {},
   "outputs": [],
   "source": [
    "file=open('C:/Users/Subham/IRLab/Assignment3/FIRE_Dataset_EN_2010/en.topics.76-125.2010.txt','r')\n",
    "tree=ET.parse(file);\n",
    "root=tree.getroot();\n",
    "queries=[]\n",
    "for child in root.iter('desc'):\n",
    "    queries.append(child.text)"
   ]
  },
  {
   "cell_type": "code",
   "execution_count": 8,
   "metadata": {},
   "outputs": [
    {
     "data": {
      "text/plain": [
       "['\\nReasons behind the protests by Meena leaders against the\\ninclusion of Gurjars in the Scheduled Tribes.\\n',\n",
       " '\\nAttacks by Hezbollah guerrillas on Indian and Israeli forces.\\n',\n",
       " '\\nConflict between Ashok Singhal, the president of Vishwa\\nHindu Parishad, and L.K. Advani, the BJP leader over the Ram\\nMandir issue.\\n',\n",
       " '\\nPlans to build a road from China to Mount Everest.\\n',\n",
       " '\\nInitiation of legal proceedings against Advani for his\\ninvolvement in the demolition of Babri Masjid.\\n',\n",
       " '\\nThe Health Ministry in India has made certain plans to\\nprotect Indian children against the outbreak of Japanese\\nEncephalitis. What problems have arisen in the course of\\nimplementing these plans?\\n',\n",
       " '\\nThe proposed bus service between Srinagar and Muzaffarabad,\\nand its role in solving the Indo-Pak dispute.\\n',\n",
       " '\\nAttempts made by Laloo Prasad Yadav and Ram Vilas Paswan to\\ngain the votes of Muslim voters.\\n',\n",
       " '\\nAllegations raised by Brinda Karat that medicines sold by\\nSwami Ramdev contain animal parts.\\n',\n",
       " '\\nOrder passed by the court to remand Abu Salem, accused in\\nthe Mumbai Bomb Blast case, in jail custody.\\n',\n",
       " \"\\nThe Government's decision to privatize the Mumbai and Delhi\\nairports and its call for tender bids in this regard.\\n\",\n",
       " '\\nDiscussions between Manmohan Singh, Prime Minister of India,\\nand Pervez Musharraf, President of Pakistan, regarding the\\nposition of troops around Siachen.\\n',\n",
       " \"\\nArrests of Jayendra Saraswati, Shankaracharya of Kanchi and\\nVijayendra Saraswati, for their alleged involvement in\\nthe murder of Shankar Raman, and people's protests against\\nthese arrests. \\n\",\n",
       " '\\nAlleged involvement of the External Affairs Minister Natwar\\nSingh and other Congress ministers in the Iraqi oil-for-food\\nscam, and related investigations.\\n',\n",
       " '\\nA visit by a team of Indian representatives to Dhaka to\\ndiscuss issues like sharing of water, security, and training\\ncamps for militants.\\n',\n",
       " '\\nCharges of financial corruption against Pratibha Patil.\\n',\n",
       " '\\nInsurgent activities of the Tamil Tigers of Sri Lanka.\\n',\n",
       " '\\nMembers of the Indian parliament caught on camera, accepting\\nbribes for raising questions in Parliament.\\n',\n",
       " '\\nInvestigations into the accusations that classified\\ninformation has been leaked by the Indian Navy.\\n',\n",
       " '\\nThe racism row on the Big Brother show involving Shilpa\\nShetty and Jade Goody.\\n',\n",
       " \"\\nStatements made by Pramod Mahajan's killer in court, denying\\ncharges against him.\\n\",\n",
       " '\\nFeud between Mukesh Ambani and Anil Ambani regarding ownership of the\\nReliance Group.\\n',\n",
       " \"\\nIndia's dismissal of China's claims on Arunachal Pradesh.\\n\",\n",
       " \"\\nEvidence regarding Laloo Prasad Yadav's involvement in the\\nfodder scam.\\n\",\n",
       " '\\nMonica Bedi charged with obtaining forged passports at\\nHyderabad.\\n',\n",
       " \"\\nDetails of the drink-and-drugs party at the late Pramod\\nMahajan's official bungalow in which Rahul (his son), Bibek\\nMoitra, and possibly others were involved.\\n\",\n",
       " '\\nCharges of doping against Shoaib Akhtar and Mohammad Asif.\\n',\n",
       " \"\\nWhat is India's position on the Indo-Pak conflict over the\\nBaglihar hydro-electric power project?\\n\",\n",
       " '\\nWhat legal steps has Jaya Bachchan taken on being\\ndisqualified from Rajya Sabha membership for holding an\\noffice of profit?\\n',\n",
       " '\\nCBI investigations into the alleged involvement of the Chief\\nMinister and highly placed bureaucrats of Uttar Pradesh in\\nthe multi-crore Taj heritage corridor scandal.\\n',\n",
       " '\\nTaslima Nasreen\\'s novel \"Shame\" banned for hurting Muslim\\nreligious sentiments.\\n',\n",
       " '\\nAccusations against the BJP of publishing a CD containing\\nanti-Muslim material during the run-up to the election in\\nUttar Pradesh, India, and steps taken by the BJP in this\\nregard.\\n',\n",
       " '\\nDemand for a Greater Nagaland made by NSCN, a Naga\\norganization, and protests made by neighbouring states\\nagainst this demand. \\n',\n",
       " \"\\nRaj Thackeray's decision to form a new political party in\\nMumbai, and his announcement about the new party.\\n\",\n",
       " '\\nBorder trade through Nathu La and its impact on\\nSino-Indian relations.\\n',\n",
       " \"\\nBan on Mumbai's dance bars and protests by dancers against\\nthe ban.\\n\",\n",
       " '\\nLinks between the Goa and Manikchand Gutkha manufacturing\\ncompanies and Dawood Ibrahim.\\n',\n",
       " '\\nClashes within the BNP and between the BNP and the Awami\\nLeague in Bangladesh.\\n',\n",
       " '\\nArms deal signed by George Fernandez with Denel, and demands\\nmade by Pranab Mukherjee for an investigation into\\nirregularities in this deal.\\n',\n",
       " '\\nCasualties resulting from the serial blasts in the Sankatmochan\\ntemple.\\n',\n",
       " '\\nWhat steps did the ACB take against Daya Nayak in the\\ndisproportionate assets (DA) case?\\n',\n",
       " \"\\nThe offer for talks made by the tribals and the Orissa\\ngovernment's plea for central mediation in connection with\\nthe controversy over land acquisition at Kalinganagar.\\n\",\n",
       " '\\nPossible involvement of Pakistani terrorist groups behind\\nthe Ayodhya attack, and the effect of the attack.\\n',\n",
       " '\\nControversy about Taj Mahal take over.\\n',\n",
       " '\\nCharges against Anara Gupta, erstwhile Miss Jammu, for her\\ninvolvement in the sex CD scandal, and reports from the\\nAndhra Pradesh forensic laboratory in this regard.\\n',\n",
       " '\\nDeadly explosions on the Samjhauta Express.\\n',\n",
       " '\\nSurrender of Sanjay Dutt, the actor, convicted in the 1993\\nMumbai blasts case.\\n',\n",
       " '\\nDeath of Palestinian leader Yasser Arafat.\\n',\n",
       " '\\nTrade in illegal drugs in various states of India.\\n',\n",
       " '\\nSiege of the Lal Masjid in Islamabad by fundamentalist students.\\n']"
      ]
     },
     "execution_count": 8,
     "metadata": {},
     "output_type": "execute_result"
    }
   ],
   "source": [
    "queries"
   ]
  },
  {
   "cell_type": "code",
   "execution_count": 9,
   "metadata": {},
   "outputs": [
    {
     "name": "stdout",
     "output_type": "stream",
     "text": [
      "\n",
      "Reasons behind the protests by Meena leaders against the\n",
      "inclusion of Gurjars in the Scheduled Tribes\n",
      "\n"
     ]
    }
   ],
   "source": [
    "punctuations = '''!()[]{};:\"\\,<>./?@#$%^&*_~-'''\n",
    "queries2=[];\n",
    "for sent in queries:\n",
    "    s=\"\"\n",
    "    for x in sent:\n",
    "        if(x not in punctuations):\n",
    "            s=s+x;\n",
    "    queries2.append(s);\n",
    "\n",
    "\n",
    "queries=queries2;\n",
    "queries2=[]\n",
    "print(queries[0])"
   ]
  },
  {
   "cell_type": "code",
   "execution_count": 10,
   "metadata": {},
   "outputs": [],
   "source": [
    "queries2=[]\n",
    "for sent in queries:\n",
    "    s=\"\"\n",
    "    sent=' '.join(sent.split())\n",
    "    queries2.append(sent);\n",
    "\n",
    "queries=queries2;\n",
    "queries2=[]"
   ]
  },
  {
   "cell_type": "code",
   "execution_count": 11,
   "metadata": {},
   "outputs": [
    {
     "data": {
      "text/plain": [
       "'Reasons behind the protests by Meena leaders against the inclusion of Gurjars in the Scheduled Tribes'"
      ]
     },
     "execution_count": 11,
     "metadata": {},
     "output_type": "execute_result"
    }
   ],
   "source": [
    "queries[0]"
   ]
  },
  {
   "cell_type": "code",
   "execution_count": 12,
   "metadata": {},
   "outputs": [
    {
     "name": "stdout",
     "output_type": "stream",
     "text": [
      "reasons behind the protests by meena leaders against the inclusion of gurjars in the scheduled tribes\n"
     ]
    }
   ],
   "source": [
    "queries2=[]\n",
    "for sent in queries:\n",
    "    sent=sent.lower()\n",
    "    queries2.append(sent);\n",
    "\n",
    "queries=queries2;\n",
    "queries2=[]\n",
    "print(queries[0])"
   ]
  },
  {
   "cell_type": "code",
   "execution_count": 13,
   "metadata": {},
   "outputs": [
    {
     "data": {
      "text/plain": [
       "50"
      ]
     },
     "execution_count": 13,
     "metadata": {},
     "output_type": "execute_result"
    }
   ],
   "source": [
    "len(queries)"
   ]
  },
  {
   "cell_type": "code",
   "execution_count": 14,
   "metadata": {},
   "outputs": [
    {
     "name": "stdout",
     "output_type": "stream",
     "text": [
      "['reasons', 'behind', 'the', 'protests', 'by', 'meena', 'leaders', 'against', 'the', 'inclusion', 'of', 'gurjars', 'in', 'the', 'scheduled', 'tribes']\n"
     ]
    }
   ],
   "source": [
    "from nltk.tokenize import word_tokenize\n",
    "queries2=[]\n",
    "for sent in queries:\n",
    "    sent=word_tokenize(sent)\n",
    "    queries2.append(sent);\n",
    "\n",
    "queries=queries2;\n",
    "queries2=[]\n",
    "print(queries[0])"
   ]
  },
  {
   "cell_type": "code",
   "execution_count": 15,
   "metadata": {},
   "outputs": [],
   "source": [
    "from nltk.corpus import stopwords\n",
    "stop_words=set(stopwords.words(\"english\"));\n",
    "\n",
    "queries2=[]\n",
    "for sent in queries:\n",
    "    s=[];\n",
    "    for word in sent:\n",
    "        if(word not in stop_words):\n",
    "            s.append(word);\n",
    "    queries2.append(s);\n",
    "\n",
    "queries=queries2;\n",
    "queries2=[]"
   ]
  },
  {
   "cell_type": "code",
   "execution_count": 16,
   "metadata": {},
   "outputs": [
    {
     "name": "stdout",
     "output_type": "stream",
     "text": [
      "['reason', 'behind', 'protest', 'meena', 'leader', 'inclusion', 'gurjars', 'scheduled', 'tribe']\n"
     ]
    }
   ],
   "source": [
    "from nltk.stem import WordNetLemmatizer\n",
    "\n",
    "lemmatizer=WordNetLemmatizer();\n",
    "queries2=[]\n",
    "for sent in queries:\n",
    "    s=[];\n",
    "    for word in sent:\n",
    "        s.append(lemmatizer.lemmatize(word));\n",
    "    queries2.append(s);\n",
    "\n",
    "queries=queries2;\n",
    "queries2=[]\n",
    "print(queries[0])"
   ]
  },
  {
   "cell_type": "code",
   "execution_count": 17,
   "metadata": {},
   "outputs": [],
   "source": [
    "import pandas as pd\n",
    "data=[]\n",
    "\n",
    "for i in range(50):\n",
    "    l=[]\n",
    "    l.append(i)\n",
    "    l.append(queries[i]);\n",
    "    data.append(l)\n",
    "    \n",
    "df = pd.DataFrame(data, columns = ['DocId', 'Tokens'])\n",
    "\n",
    "df.to_csv('C:/Users/Subham/IRLab/dataset_query.csv',index=False, header=True)"
   ]
  }
 ],
 "metadata": {
  "kernelspec": {
   "display_name": "Python 3",
   "language": "python",
   "name": "python3"
  },
  "language_info": {
   "codemirror_mode": {
    "name": "ipython",
    "version": 3
   },
   "file_extension": ".py",
   "mimetype": "text/x-python",
   "name": "python",
   "nbconvert_exporter": "python",
   "pygments_lexer": "ipython3",
   "version": "3.7.6"
  }
 },
 "nbformat": 4,
 "nbformat_minor": 2
}
